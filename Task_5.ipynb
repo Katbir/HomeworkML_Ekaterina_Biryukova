{
 "cells": [
  {
   "cell_type": "markdown",
   "id": "499ead8d",
   "metadata": {},
   "source": [
    "Самостоятельное задание #5\n",
    "\n",
    "Задание 1\n",
    "\n",
    "Допишите функцию, которая принимает список, выбирает из него все элементы с четным индексом и \n",
    "возвращает их в виде списка."
   ]
  },
  {
   "cell_type": "code",
   "execution_count": 8,
   "id": "03b5e71e",
   "metadata": {},
   "outputs": [],
   "source": [
    "s = ['addf', 123, 2, 46, 'fggd']  # ввод списка"
   ]
  },
  {
   "cell_type": "code",
   "execution_count": 24,
   "id": "306a7ef5",
   "metadata": {},
   "outputs": [
    {
     "name": "stdout",
     "output_type": "stream",
     "text": [
      "['addf', 2, 'fggd']\n",
      "['addf', 123, 2, 46, 'fggd']\n"
     ]
    }
   ],
   "source": [
    "f = s.copy()                      # делаю копию списка s \n",
    "for i in reversed(range(len(s))): # обратный цикл для удаления символов с нечетными индексами, i - индекс элемента \n",
    "    if i%2!=0:                    # условие нечетности индекса\n",
    "        f.pop(i)                  # удаление элемента с индексом i \n",
    "print(f)                          # вывожу список f, состоящий из элементов с четным индексом списка s"
   ]
  },
  {
   "cell_type": "markdown",
   "id": "51c9e27d",
   "metadata": {},
   "source": [
    "Задание 2\n",
    "\n",
    "Допишите функцию, которая принимает список, выбирает из него все элементы, \n",
    "которые больше предыдущего и возвращает их в виде списка."
   ]
  },
  {
   "cell_type": "code",
   "execution_count": 70,
   "id": "dd408001",
   "metadata": {},
   "outputs": [],
   "source": [
    "m = [3,1,5,6,72,932,1,9,15]         # ввод списка"
   ]
  },
  {
   "cell_type": "code",
   "execution_count": 85,
   "id": "5ef09cd4",
   "metadata": {},
   "outputs": [
    {
     "name": "stdout",
     "output_type": "stream",
     "text": [
      "[7, 8, 3]\n"
     ]
    }
   ],
   "source": [
    "n = m.copy()                        # делаю копию списка m\n",
    "for i in reversed(range(len(m)-1)): # обратный цикл по элементам списка, i - индекс элемента списка\n",
    "    if n[i+1]<=n[i]:                # сравнение двух соседних элемента списка\n",
    "        n.pop(i+1)                  # удаление элемента с индексом i+1\n",
    "n.pop(0)                            # удаление элемента с индексом 0, вне цикла\n",
    "print(n)                            # вывод списка n "
   ]
  },
  {
   "cell_type": "markdown",
   "id": "871698d5",
   "metadata": {},
   "source": [
    "Задание 3\n",
    "\n",
    "Допишите функцию, которая принимает список, меняет местами наибольший и наименьший элементы и возвращает этот список."
   ]
  },
  {
   "cell_type": "code",
   "execution_count": 73,
   "id": "b2a9f4ff",
   "metadata": {},
   "outputs": [],
   "source": [
    "m = [1,56,4,3,7,1,8,3,76,3] # ввод списка m"
   ]
  },
  {
   "cell_type": "code",
   "execution_count": 84,
   "id": "031a4ea5",
   "metadata": {},
   "outputs": [
    {
     "name": "stdout",
     "output_type": "stream",
     "text": [
      "[76, 56, 4, 3, 7, 1, 8, 3, 1, 3]\n"
     ]
    }
   ],
   "source": [
    "b=max(m)                    # поиск max, присваиваем max переменной b\n",
    "c=min(m)                    # поиск min, присваиваем min переменной c\n",
    "m[m.index(b)], m[m.index(c)]= m[m.index(c)], m[m.index(b)]  # меняю местами наибольший и наименьший элементы в списке m \n",
    "print(m)                    # вывод списка"
   ]
  }
 ],
 "metadata": {
  "kernelspec": {
   "display_name": "Python 3 (ipykernel)",
   "language": "python",
   "name": "python3"
  },
  "language_info": {
   "codemirror_mode": {
    "name": "ipython",
    "version": 3
   },
   "file_extension": ".py",
   "mimetype": "text/x-python",
   "name": "python",
   "nbconvert_exporter": "python",
   "pygments_lexer": "ipython3",
   "version": "3.9.7"
  }
 },
 "nbformat": 4,
 "nbformat_minor": 5
}
