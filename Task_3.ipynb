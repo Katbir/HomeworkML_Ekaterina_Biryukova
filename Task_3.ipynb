{
 "cells": [
  {
   "cell_type": "markdown",
   "id": "e740db29",
   "metadata": {},
   "source": [
    "Самостоятельное задание #3\n",
    "\n",
    "Задание 1\n",
    "\n",
    "Допишите функцию, которая принимает массив из 10 чисел и возвращает их сумму."
   ]
  },
  {
   "cell_type": "code",
   "execution_count": 25,
   "id": "f0f1127c",
   "metadata": {},
   "outputs": [],
   "source": [
    "a = [1,2,4,3,5,6,7,8,9,5] # ввод массива"
   ]
  },
  {
   "cell_type": "code",
   "execution_count": 29,
   "id": "76fd1937",
   "metadata": {},
   "outputs": [
    {
     "name": "stdout",
     "output_type": "stream",
     "text": [
      "50\n"
     ]
    }
   ],
   "source": [
    "print(sum(a)) # использование функции sum() для вычисления суммы массива"
   ]
  },
  {
   "cell_type": "markdown",
   "id": "a905c11b",
   "metadata": {},
   "source": [
    "Задание 2\n",
    "\n",
    "Допишите функцию, которая принимает массив чисел и возвращает количество чисел равных нулю."
   ]
  },
  {
   "cell_type": "code",
   "execution_count": 12,
   "id": "784fab87",
   "metadata": {},
   "outputs": [],
   "source": [
    "nill = 0 # число с которым сравниваем числа в массиве"
   ]
  },
  {
   "cell_type": "code",
   "execution_count": 28,
   "id": "39164739",
   "metadata": {},
   "outputs": [],
   "source": [
    "i = 0 # счетчик нуля в массиве"
   ]
  },
  {
   "cell_type": "code",
   "execution_count": 14,
   "id": "d0156e74",
   "metadata": {},
   "outputs": [
    {
     "name": "stdout",
     "output_type": "stream",
     "text": [
      "5\n"
     ]
    }
   ],
   "source": [
    "for a in [0,2,3,4,0,2,0,0,2,4,5,0]: # цикл для сравнения всех элементов массива с 0\n",
    "    if a == nill:\n",
    "        i+=1\n",
    "print(i)                            # вывод кол-во 0"
   ]
  },
  {
   "cell_type": "markdown",
   "id": "3af7fa86",
   "metadata": {},
   "source": [
    "Задание 3\n",
    "\n",
    "Напишите программу, в которой задается натуральное число n и выводится лестница из n ступенек, \n",
    "i-я ступенька должна состоять из чисел от 1 до i без пробелов."
   ]
  },
  {
   "cell_type": "code",
   "execution_count": 113,
   "id": "da5b6333",
   "metadata": {},
   "outputs": [],
   "source": [
    "n = 8 # ввод натурального числа"
   ]
  },
  {
   "cell_type": "code",
   "execution_count": 114,
   "id": "8ab14177",
   "metadata": {},
   "outputs": [
    {
     "name": "stdout",
     "output_type": "stream",
     "text": [
      "1\n",
      "12\n",
      "123\n",
      "1234\n",
      "12345\n",
      "123456\n",
      "1234567\n",
      "12345678\n"
     ]
    }
   ],
   "source": [
    "for i in range(1,n+1):         # цикл по строкам, i - номер строки\n",
    "        for j in range(1,i+1): # печатаю цифры по возврастанию, j - цифры от 1 до i+1\n",
    "              print(j, end='') # вывод чисел на экран\n",
    "        print()                # переход на новую строчку"
   ]
  },
  {
   "cell_type": "markdown",
   "id": "1a3cc6d4",
   "metadata": {},
   "source": [
    "Задание 4\n",
    "\n",
    "Напишите программу, в которой задается натуральное число n и выводится пирамида из n ступенек, \n",
    "i-я ступень должна состоять из чисел от 1 до i и обратно без пробелов."
   ]
  },
  {
   "cell_type": "code",
   "execution_count": 1,
   "id": "d00ab6ab",
   "metadata": {},
   "outputs": [],
   "source": [
    "n = 6 # ввод натурального числа"
   ]
  },
  {
   "cell_type": "code",
   "execution_count": 5,
   "id": "2c255ff7",
   "metadata": {
    "scrolled": true
   },
   "outputs": [
    {
     "name": "stdout",
     "output_type": "stream",
     "text": [
      "    1\n",
      "   121\n",
      "  12321\n",
      " 1234321\n",
      "123454321\n"
     ]
    }
   ],
   "source": [
    "for i in range(1,n+1):                 # цикл по строкам, i - номер строки\n",
    "        for g in (range(1,n-i+1)):     # вывожу отступы перед каждой строкой, g - количество пробелов\n",
    "               print(\" \", end='')\n",
    "        for j in (range(1,i+1)):       # печатаю цифры по возврастанию до середины строки, j - цифры от 1 до i+1\n",
    "               print(j, end='') \n",
    "        for f in reversed(range(1,i)): # печатаю цифры по убыванию с середины строки, f - цифры от i до 1  \n",
    "            print(f, end='')\n",
    "        print()                        # переход на новую строчку"
   ]
  },
  {
   "cell_type": "markdown",
   "id": "ce4d8609",
   "metadata": {},
   "source": [
    "Задание 5\n",
    "\n",
    "Напишите программу, в которой задается натуральное число n и выводится ромб из n*2-1 ступенек, \n",
    "i-я ступень должна состоять из чисел от 1 до i и обратно без пробелов."
   ]
  },
  {
   "cell_type": "code",
   "execution_count": 1,
   "id": "b9bf4e18",
   "metadata": {},
   "outputs": [],
   "source": [
    "n = 6 #ввод натурального числа"
   ]
  },
  {
   "cell_type": "code",
   "execution_count": 2,
   "id": "63988f33",
   "metadata": {},
   "outputs": [
    {
     "name": "stdout",
     "output_type": "stream",
     "text": [
      "     1\n",
      "    121\n",
      "   12321\n",
      "  1234321\n",
      " 123454321\n",
      "12345654321\n",
      " 123454321\n",
      "  1234321\n",
      "   12321\n",
      "    121\n",
      "     1\n"
     ]
    }
   ],
   "source": [
    "for i in range(1,n+1):                   # цикл по строкам, i - номер строки\n",
    "        for g in (range(1,n-i+1)):       # вывожу отступы перед каждой строкой, g - количество пробелов\n",
    "               print(\" \", end='')\n",
    "        for j in (range(1,i+1)):         # печатаю цифры по возврастанию до середины строки, j - цифры от 1 до i+1\n",
    "               print(j, end='') \n",
    "        for f in reversed(range(1,i)):   # печатаю цифры по убыванию с середины строки, f - цифры от i до 1 \n",
    "            print(f, end='')\n",
    "        print()\n",
    "for i in range(1,n):                     # цикл по строкам, начиная со строки n+1, i - номер строки\n",
    "        for a in range(1,i+1):           # вывожу отступы перед каждой строкой, a - количество пробелов\n",
    "            print(\" \", end='')\n",
    "        for b in range(1,n-i+1):         # печатаю цифры по возврастанию до середины строки, b - цифры от 1 до n-i+1\n",
    "            print(b, end='')\n",
    "        for c in reversed(range(1,n-i)): # печатаю цифры по убыванию с середины строки, c - цифры от n-i до 1 \n",
    "            print(c, end='')\n",
    "        print()                          # переход на новую строчку"
   ]
  },
  {
   "cell_type": "code",
   "execution_count": null,
   "id": "d14abb13",
   "metadata": {},
   "outputs": [],
   "source": []
  }
 ],
 "metadata": {
  "kernelspec": {
   "display_name": "Python 3 (ipykernel)",
   "language": "python",
   "name": "python3"
  },
  "language_info": {
   "codemirror_mode": {
    "name": "ipython",
    "version": 3
   },
   "file_extension": ".py",
   "mimetype": "text/x-python",
   "name": "python",
   "nbconvert_exporter": "python",
   "pygments_lexer": "ipython3",
   "version": "3.9.7"
  }
 },
 "nbformat": 4,
 "nbformat_minor": 5
}
