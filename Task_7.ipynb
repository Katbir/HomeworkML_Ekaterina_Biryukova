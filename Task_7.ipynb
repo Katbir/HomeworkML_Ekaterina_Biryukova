{
 "cells": [
  {
   "cell_type": "markdown",
   "id": "47dfaeae",
   "metadata": {},
   "source": [
    "Самостоятельное задание #7\n",
    "\n",
    "Задание 1\n",
    "\n",
    "Допишите функцию, которая принимает список чисел и, с помощью множеств, определяет количество различных чисел внутри списка."
   ]
  },
  {
   "cell_type": "code",
   "execution_count": 12,
   "id": "0a24b5ef",
   "metadata": {},
   "outputs": [],
   "source": [
    "a = {1, 5, 4, 6,'t','e', 9, 'e'} # вводим множество"
   ]
  },
  {
   "cell_type": "code",
   "execution_count": 13,
   "id": "4b08056f",
   "metadata": {},
   "outputs": [
    {
     "data": {
      "text/plain": [
       "7"
      ]
     },
     "execution_count": 13,
     "metadata": {},
     "output_type": "execute_result"
    }
   ],
   "source": [
    "len(a) # определяем длину множества"
   ]
  },
  {
   "cell_type": "markdown",
   "id": "d477d6f4",
   "metadata": {},
   "source": [
    "Задание 2\n",
    "\n",
    "Допишите функцию, которая принимает несколько списков чисел и, с помощью множеств, \n",
    "определяет количество общих чисел из первого и второго списка."
   ]
  },
  {
   "cell_type": "code",
   "execution_count": 13,
   "id": "e0793cae",
   "metadata": {},
   "outputs": [
    {
     "data": {
      "text/plain": [
       "8"
      ]
     },
     "execution_count": 13,
     "metadata": {},
     "output_type": "execute_result"
    }
   ],
   "source": [
    "c = {1, 2, 3, 4, 5,'y','t','h'} # вводим первое множество\n",
    "len(c)                          # определяем длину множества"
   ]
  },
  {
   "cell_type": "code",
   "execution_count": 14,
   "id": "da83063e",
   "metadata": {},
   "outputs": [
    {
     "data": {
      "text/plain": [
       "6"
      ]
     },
     "execution_count": 14,
     "metadata": {},
     "output_type": "execute_result"
    }
   ],
   "source": [
    "b = {1,2,4,'T', 9, 10}          # вводим второе множество\n",
    "len(b)                          # определяем длину множества"
   ]
  },
  {
   "cell_type": "code",
   "execution_count": 15,
   "id": "77d0f7cb",
   "metadata": {},
   "outputs": [
    {
     "name": "stdout",
     "output_type": "stream",
     "text": [
      "3\n"
     ]
    }
   ],
   "source": [
    "f = (c|b)                      # объединяем множества c и b \n",
    "print(len(b)+len(c) - len(f))  # определяем количество общих чисел из первого и второго списка"
   ]
  }
 ],
 "metadata": {
  "kernelspec": {
   "display_name": "Python 3 (ipykernel)",
   "language": "python",
   "name": "python3"
  },
  "language_info": {
   "codemirror_mode": {
    "name": "ipython",
    "version": 3
   },
   "file_extension": ".py",
   "mimetype": "text/x-python",
   "name": "python",
   "nbconvert_exporter": "python",
   "pygments_lexer": "ipython3",
   "version": "3.9.7"
  }
 },
 "nbformat": 4,
 "nbformat_minor": 5
}
