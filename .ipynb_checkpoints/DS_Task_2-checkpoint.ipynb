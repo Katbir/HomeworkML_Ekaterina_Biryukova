{
 "cells": [
  {
   "cell_type": "markdown",
   "id": "1ad8ff7d",
   "metadata": {},
   "source": [
    "Домашнее задание 1. Вероятности"
   ]
  },
  {
   "cell_type": "markdown",
   "id": "f6c59c43",
   "metadata": {},
   "source": [
    "Один самолет вылетел из Москвы, и должен совершить посадку в 5 городах.\n",
    "Необходимо узнать, количество городов, в котрых может приземлиться в первый, второй, третий город."
   ]
  },
  {
   "cell_type": "code",
   "execution_count": 3,
   "id": "323ca126",
   "metadata": {},
   "outputs": [
    {
     "data": {
      "text/plain": [
       "60.0"
      ]
     },
     "execution_count": 3,
     "metadata": {},
     "output_type": "execute_result"
    }
   ],
   "source": [
    "def factorial(n):                 # функция факториал\n",
    "    if n == 0: return 1\n",
    "    if n == 1: return 1            \n",
    "    else: return n*factorial(n-1)\n",
    "def permutattion(n,r):            # функция перестановки\n",
    "    return factorial(n)/factorial(n-r)\n",
    "permutattion(5,3)                           "
   ]
  }
 ],
 "metadata": {
  "kernelspec": {
   "display_name": "Python 3 (ipykernel)",
   "language": "python",
   "name": "python3"
  },
  "language_info": {
   "codemirror_mode": {
    "name": "ipython",
    "version": 3
   },
   "file_extension": ".py",
   "mimetype": "text/x-python",
   "name": "python",
   "nbconvert_exporter": "python",
   "pygments_lexer": "ipython3",
   "version": "3.9.7"
  }
 },
 "nbformat": 4,
 "nbformat_minor": 5
}
