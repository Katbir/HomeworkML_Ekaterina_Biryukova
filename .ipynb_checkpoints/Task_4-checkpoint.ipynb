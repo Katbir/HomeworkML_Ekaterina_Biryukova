{
 "cells": [
  {
   "cell_type": "markdown",
   "id": "1eb7c506",
   "metadata": {},
   "source": [
    "Самостоятельное задание #4\n",
    "\n",
    "Дана строка: Lambdadambda\n",
    "\n",
    "Вывести третий символ этой строки."
   ]
  },
  {
   "cell_type": "code",
   "execution_count": 1,
   "id": "45526f03",
   "metadata": {},
   "outputs": [],
   "source": [
    "s = 'Lambdadambda' # ввод строки"
   ]
  },
  {
   "cell_type": "code",
   "execution_count": 2,
   "id": "73ca2089",
   "metadata": {},
   "outputs": [
    {
     "name": "stdout",
     "output_type": "stream",
     "text": [
      "m\n"
     ]
    }
   ],
   "source": [
    "print(s[2])        # вывод третьего символа строки"
   ]
  },
  {
   "cell_type": "markdown",
   "id": "1ba0c774",
   "metadata": {},
   "source": [
    "Вывести предпоследний символ этой строки."
   ]
  },
  {
   "cell_type": "code",
   "execution_count": 3,
   "id": "3179b39f",
   "metadata": {},
   "outputs": [],
   "source": [
    "s = 'Lambdadambda' # ввод строки"
   ]
  },
  {
   "cell_type": "code",
   "execution_count": 7,
   "id": "1069e6c3",
   "metadata": {},
   "outputs": [
    {
     "name": "stdout",
     "output_type": "stream",
     "text": [
      "d\n"
     ]
    }
   ],
   "source": [
    "print(s[len(s)-2]) # вывод предпоследнего символа строки"
   ]
  },
  {
   "cell_type": "markdown",
   "id": "ebcfd21e",
   "metadata": {},
   "source": [
    "Вывести первые пять символов этой строки."
   ]
  },
  {
   "cell_type": "code",
   "execution_count": 8,
   "id": "8ae2d63d",
   "metadata": {},
   "outputs": [],
   "source": [
    "s = 'Lambdadambda' # ввод строки"
   ]
  },
  {
   "cell_type": "code",
   "execution_count": 16,
   "id": "635240b4",
   "metadata": {},
   "outputs": [
    {
     "name": "stdout",
     "output_type": "stream",
     "text": [
      "Lambd\n"
     ]
    }
   ],
   "source": [
    "print(s[:5])     # вывод первых пяти символов строки"
   ]
  },
  {
   "cell_type": "markdown",
   "id": "a0510556",
   "metadata": {},
   "source": [
    "Вывести строку, кроме последних двух символов."
   ]
  },
  {
   "cell_type": "code",
   "execution_count": 12,
   "id": "f703aacc",
   "metadata": {},
   "outputs": [],
   "source": [
    "s = 'Lambdadambda' # ввод строки"
   ]
  },
  {
   "cell_type": "code",
   "execution_count": 14,
   "id": "5f6f277e",
   "metadata": {},
   "outputs": [
    {
     "name": "stdout",
     "output_type": "stream",
     "text": [
      "Lambdadamb\n"
     ]
    }
   ],
   "source": [
    "print(s[0:(len(s)-2)]) # вывод строки без последних двух символов"
   ]
  },
  {
   "cell_type": "markdown",
   "id": "fae3de0c",
   "metadata": {},
   "source": [
    "Вывести все символы с четными индексами (считайте, что 0 - четный индекс)."
   ]
  },
  {
   "cell_type": "code",
   "execution_count": 15,
   "id": "f70dc6ed",
   "metadata": {},
   "outputs": [],
   "source": [
    "s = 'Lambdadambda' # ввод строки"
   ]
  },
  {
   "cell_type": "code",
   "execution_count": 17,
   "id": "18906597",
   "metadata": {},
   "outputs": [
    {
     "name": "stdout",
     "output_type": "stream",
     "text": [
      "Lmddmd\n"
     ]
    }
   ],
   "source": [
    "print(s[::2])   # вывод символов с четными индесами"
   ]
  },
  {
   "cell_type": "markdown",
   "id": "c67df1c5",
   "metadata": {},
   "source": [
    "Вывести все символы с нечетными индексами."
   ]
  },
  {
   "cell_type": "code",
   "execution_count": 18,
   "id": "a38946ba",
   "metadata": {},
   "outputs": [],
   "source": [
    "s = 'Lambdadambda' # ввод строки"
   ]
  },
  {
   "cell_type": "code",
   "execution_count": 19,
   "id": "7ad2d74f",
   "metadata": {},
   "outputs": [
    {
     "name": "stdout",
     "output_type": "stream",
     "text": [
      "abaaba\n"
     ]
    }
   ],
   "source": [
    "print(s[1::2])     # вывод символов с нечетными индесами"
   ]
  },
  {
   "cell_type": "markdown",
   "id": "5d1bfbed",
   "metadata": {},
   "source": [
    "Вывести все символы в обратном порядке."
   ]
  },
  {
   "cell_type": "code",
   "execution_count": 29,
   "id": "45cd4ab3",
   "metadata": {},
   "outputs": [],
   "source": [
    "s = 'Lambdadambda' # ввод строки\n",
    "l = len(s)         # длина строки"
   ]
  },
  {
   "cell_type": "code",
   "execution_count": 34,
   "id": "c14b9e59",
   "metadata": {},
   "outputs": [
    {
     "name": "stdout",
     "output_type": "stream",
     "text": [
      "adbmadadbmaL"
     ]
    }
   ],
   "source": [
    "for i in reversed(range(l)):  # цикл вывода строки по буквам в обратном направлении, i - индекс строки\n",
    "    print(s[i], end='')"
   ]
  },
  {
   "cell_type": "markdown",
   "id": "4289b424",
   "metadata": {},
   "source": [
    "Вывести все символы строки через один в обратном порядке, начиная с последнего."
   ]
  },
  {
   "cell_type": "code",
   "execution_count": 17,
   "id": "5f5d12b8",
   "metadata": {},
   "outputs": [],
   "source": [
    "s = 'Lambdadambda' # ввод строки\n",
    "l = len(s)         # длина строки"
   ]
  },
  {
   "cell_type": "code",
   "execution_count": 18,
   "id": "d8bfc7e3",
   "metadata": {},
   "outputs": [
    {
     "name": "stdout",
     "output_type": "stream",
     "text": [
      "abaaba"
     ]
    }
   ],
   "source": [
    "for i in reversed(range(l)):  # цикл вывода строки по буквам в обратном направлении, i - индекс строки\n",
    "    if (l-i+1)%2 == 0:        # условие для определения нечетных индексов и вывода символов в обратном порядке через один\n",
    "        print(s[i], end='')\n",
    "    \n",
    "\n",
    "    "
   ]
  },
  {
   "cell_type": "code",
   "execution_count": 73,
   "id": "30d76019",
   "metadata": {},
   "outputs": [],
   "source": [
    "s = 'Lambdadambda'# ввод строки"
   ]
  },
  {
   "cell_type": "code",
   "execution_count": 77,
   "id": "03022897",
   "metadata": {},
   "outputs": [
    {
     "name": "stdout",
     "output_type": "stream",
     "text": [
      "abaaba\n"
     ]
    }
   ],
   "source": [
    "print(s[::-2]) # вывод строки в обратном порядке с шагом 2"
   ]
  },
  {
   "cell_type": "markdown",
   "id": "f241336a",
   "metadata": {},
   "source": [
    "Вывести длину данной строки."
   ]
  },
  {
   "cell_type": "code",
   "execution_count": 78,
   "id": "0fd9e910",
   "metadata": {},
   "outputs": [],
   "source": [
    "s = 'Lambdadambda'# ввод строки"
   ]
  },
  {
   "cell_type": "code",
   "execution_count": 79,
   "id": "a3877467",
   "metadata": {},
   "outputs": [
    {
     "name": "stdout",
     "output_type": "stream",
     "text": [
      "12\n"
     ]
    }
   ],
   "source": [
    "print(len(s))# вывод длины строки"
   ]
  }
 ],
 "metadata": {
  "kernelspec": {
   "display_name": "Python 3 (ipykernel)",
   "language": "python",
   "name": "python3"
  },
  "language_info": {
   "codemirror_mode": {
    "name": "ipython",
    "version": 3
   },
   "file_extension": ".py",
   "mimetype": "text/x-python",
   "name": "python",
   "nbconvert_exporter": "python",
   "pygments_lexer": "ipython3",
   "version": "3.9.7"
  }
 },
 "nbformat": 4,
 "nbformat_minor": 5
}
