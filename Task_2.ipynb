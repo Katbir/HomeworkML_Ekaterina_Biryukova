{
 "cells": [
  {
   "cell_type": "markdown",
   "id": "e6f9abc1",
   "metadata": {},
   "source": [
    "Самостоятельная работа #2\n",
    "\n",
    "Задание 1\n",
    "\n",
    "Допишите функцию, которая принимает 2 числа, сравнивает между собой и возвращает наименьшее.\n"
   ]
  },
  {
   "cell_type": "code",
   "execution_count": 1,
   "id": "b9eaaba4",
   "metadata": {},
   "outputs": [],
   "source": [
    "a = 2  # присваиваем значения переменным\n",
    "b = 4"
   ]
  },
  {
   "cell_type": "code",
   "execution_count": 3,
   "id": "568ea69c",
   "metadata": {},
   "outputs": [
    {
     "name": "stdout",
     "output_type": "stream",
     "text": [
      "2\n"
     ]
    }
   ],
   "source": [
    "if a < b:    # условный оператор\n",
    "    print(a) # если истина\n",
    "else:\n",
    "    print(b) # иначе"
   ]
  },
  {
   "cell_type": "markdown",
   "id": "c77bb2d5",
   "metadata": {},
   "source": [
    "Способ через min"
   ]
  },
  {
   "cell_type": "code",
   "execution_count": 4,
   "id": "9eb1035b",
   "metadata": {},
   "outputs": [
    {
     "name": "stdout",
     "output_type": "stream",
     "text": [
      "2\n"
     ]
    }
   ],
   "source": [
    "print(min([a,b])) # выводим наименьшее число"
   ]
  },
  {
   "cell_type": "markdown",
   "id": "843ddb30",
   "metadata": {},
   "source": [
    "Задание 2\n",
    "\n",
    "Допишите функцию, которая принимает 3 числа, сравнивает между собой и возвращает наименьшее."
   ]
  },
  {
   "cell_type": "code",
   "execution_count": 13,
   "id": "bbbb3fc6",
   "metadata": {},
   "outputs": [],
   "source": [
    "a = 1\n",
    "b = 1 # присваение значений переменным\n",
    "c = 2"
   ]
  },
  {
   "cell_type": "code",
   "execution_count": 14,
   "id": "6a22b6ec",
   "metadata": {},
   "outputs": [
    {
     "name": "stdout",
     "output_type": "stream",
     "text": [
      "1\n"
     ]
    }
   ],
   "source": [
    "if a <= b and a <= c:   # условный оператор\n",
    "    print(a)            # если истина\n",
    "elif b <= a and b <= c: # допольнительное условие\n",
    "    print(b)            # если доп. условие истина\n",
    "else:                   # иначе\n",
    "    print(c)            "
   ]
  },
  {
   "cell_type": "markdown",
   "id": "e7b6fd89",
   "metadata": {},
   "source": [
    "Задание 3\n",
    "\n",
    "Допишите функцию, которая принимает 3 числа, сравнивает между собой и возвращает количество совпадающих чисел. Соответственно, программа может возвращать одно из трех чисел: \n",
    "3 - если совпадают все, 2 - если совпадают 2 числа, 0 - если все числа различны."
   ]
  },
  {
   "cell_type": "code",
   "execution_count": 78,
   "id": "4ae2f21a",
   "metadata": {},
   "outputs": [],
   "source": [
    "i = 0 # счетчик количества повторений\n",
    "a = 3\n",
    "b = 3 # объявление переменных\n",
    "c =1"
   ]
  },
  {
   "cell_type": "code",
   "execution_count": 79,
   "id": "75c6cc0e",
   "metadata": {},
   "outputs": [
    {
     "name": "stdout",
     "output_type": "stream",
     "text": [
      "2\n"
     ]
    }
   ],
   "source": [
    "if a == b: # проверка условия 1\n",
    "    i+=1   # если верно, то к i прибаляем единицу\n",
    "elif a == c: # проверка условия 2\n",
    "    i+=1\n",
    "elif b == c: # проверка условия 3\n",
    "    i +=1 \n",
    "if i == 0:  # еще один условный оператор (выводим нужное число, так как вместо 1 надо вывести 2, вместо 2 нужно 3)\n",
    "    print(0)\n",
    "elif i == 1:\n",
    "    print(2)\n",
    "elif i == 2:\n",
    "    print(3)\n"
   ]
  },
  {
   "cell_type": "code",
   "execution_count": null,
   "id": "72d8d7c3",
   "metadata": {},
   "outputs": [],
   "source": []
  },
  {
   "cell_type": "code",
   "execution_count": null,
   "id": "49f5d2f1",
   "metadata": {},
   "outputs": [],
   "source": []
  }
 ],
 "metadata": {
  "kernelspec": {
   "display_name": "Python 3 (ipykernel)",
   "language": "python",
   "name": "python3"
  },
  "language_info": {
   "codemirror_mode": {
    "name": "ipython",
    "version": 3
   },
   "file_extension": ".py",
   "mimetype": "text/x-python",
   "name": "python",
   "nbconvert_exporter": "python",
   "pygments_lexer": "ipython3",
   "version": "3.9.7"
  }
 },
 "nbformat": 4,
 "nbformat_minor": 5
}
