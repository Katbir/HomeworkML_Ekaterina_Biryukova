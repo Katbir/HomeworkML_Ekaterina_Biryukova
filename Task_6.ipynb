{
 "cells": [
  {
   "cell_type": "markdown",
   "id": "d6276875",
   "metadata": {},
   "source": [
    "Самостоятельное задание 6\n",
    "\n",
    "Задание 1\n",
    "\n",
    "Допишите функцию, которая принимает несколько параметров. Первый параметр - словарь, \n",
    "второй параметр - один из ключей данного словаря. Функция должна выводить значение этого ключа."
   ]
  },
  {
   "cell_type": "code",
   "execution_count": 5,
   "id": "4965d884",
   "metadata": {},
   "outputs": [],
   "source": [
    "d = dict([(1, 'v'), (3, 'c'), (2,'f'), (11,'d'), (7,'r')]) # создаем словарь"
   ]
  },
  {
   "cell_type": "code",
   "execution_count": 6,
   "id": "10589ab2",
   "metadata": {},
   "outputs": [
    {
     "name": "stdout",
     "output_type": "stream",
     "text": [
      "{1: 'v', 3: 'c', 2: 'f', 11: 'd', 7: 'r'}\n"
     ]
    }
   ],
   "source": [
    "print(d) "
   ]
  },
  {
   "cell_type": "code",
   "execution_count": 7,
   "id": "83f08ffc",
   "metadata": {},
   "outputs": [
    {
     "name": "stdout",
     "output_type": "stream",
     "text": [
      "7\n"
     ]
    }
   ],
   "source": [
    "w = 'r'                  # вводим значение из словаря\n",
    "\n",
    "for key in d:            # цикл, перебор ключей всех элементов\n",
    "    if w == (d[key]):    # сравниваем значение, которые мы вводим с значениеми в словаре\n",
    "         print(key)      # выводим ключ  "
   ]
  }
 ],
 "metadata": {
  "kernelspec": {
   "display_name": "Python 3 (ipykernel)",
   "language": "python",
   "name": "python3"
  },
  "language_info": {
   "codemirror_mode": {
    "name": "ipython",
    "version": 3
   },
   "file_extension": ".py",
   "mimetype": "text/x-python",
   "name": "python",
   "nbconvert_exporter": "python",
   "pygments_lexer": "ipython3",
   "version": "3.9.7"
  }
 },
 "nbformat": 4,
 "nbformat_minor": 5
}
