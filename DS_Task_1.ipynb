{
 "cells": [
  {
   "cell_type": "markdown",
   "id": "e24ef1a5",
   "metadata": {},
   "source": [
    "Домашнее задание #1\n",
    "\n",
    "Для начала вам понадобится импортировать модуль numpy как np"
   ]
  },
  {
   "cell_type": "code",
   "execution_count": 28,
   "id": "b9b9a38e",
   "metadata": {},
   "outputs": [],
   "source": [
    "import numpy as np "
   ]
  },
  {
   "cell_type": "markdown",
   "id": "9834d69a",
   "metadata": {},
   "source": [
    "Задача №1\n",
    "\n",
    "Считайте (через input) 2 числа:\n",
    "n - размер Numpy вектора;\n",
    "x - координата элемента вектора, который должен быть равен 1. Остальные должны быть равны 0.\n",
    "Создайте вектор размера n, в котором все элементы равны 0, кроме элемента с номером x - он равен 1."
   ]
  },
  {
   "cell_type": "code",
   "execution_count": null,
   "id": "fda4d8be",
   "metadata": {},
   "outputs": [],
   "source": [
    "n = input()   # ввод размера вектора\n",
    "n = int(n)    \n",
    "x = input()   # ввод координаты элемента вектора \n",
    "x = int(x)\n",
    "a = np.array([i for i in range(n)])  # задание numpy вектора\n",
    "a[x-1] = 1     # присвание элементу значение один\n",
    "print (a)      # вывод вектора numpy"
   ]
  },
  {
   "cell_type": "markdown",
   "id": "378bd990",
   "metadata": {},
   "source": [
    "Задача №2\n",
    "\n",
    "Считайте 3 числа: n, m, s. Создайте Numpy вектор, состоящий из чисел от n до m с шагом s."
   ]
  },
  {
   "cell_type": "code",
   "execution_count": 44,
   "id": "4a3012c1",
   "metadata": {},
   "outputs": [
    {
     "name": "stdout",
     "output_type": "stream",
     "text": [
      "2\n",
      "13\n",
      "3\n",
      "[ 2  5  8 11]\n"
     ]
    }
   ],
   "source": [
    "n = input() # ввод числа n\n",
    "n=int(n)\n",
    "m = input() # ввод числа m\n",
    "m=int(m)\n",
    "s = input() # ввод шага s\n",
    "s=int(s)\n",
    "k=(m-n)//s  # количество элементов вектора\n",
    "a = np.array([n+s*i for i in range(k+1)])    \n",
    "print (a)   # вывод вектора "
   ]
  },
  {
   "cell_type": "markdown",
   "id": "96bb224b",
   "metadata": {},
   "source": [
    "Задача №3\n",
    "\n",
    "Создайте матрицу 3х3 со значениями от 0 до 8. Значения нужно сгенерировать."
   ]
  },
  {
   "cell_type": "code",
   "execution_count": 46,
   "id": "26aba1ce",
   "metadata": {},
   "outputs": [],
   "source": [
    "import numpy.random as rand  # подключение библиотеки"
   ]
  },
  {
   "cell_type": "code",
   "execution_count": 48,
   "id": "b79abff4",
   "metadata": {},
   "outputs": [
    {
     "data": {
      "text/plain": [
       "array([[7, 0, 7],\n",
       "       [1, 4, 1],\n",
       "       [6, 0, 5]])"
      ]
     },
     "execution_count": 48,
     "metadata": {},
     "output_type": "execute_result"
    }
   ],
   "source": [
    "np.random.randint(0,8,(3,3)) # генерация массива "
   ]
  },
  {
   "cell_type": "markdown",
   "id": "aed6635b",
   "metadata": {},
   "source": [
    "Задача №4\n",
    "\n",
    "Создайте матрицу 4х4 со случайными значениями.\n",
    "Найдите максимальное значение первой строки, минимальное - второй, среднее - третьей, сумму - четвертой."
   ]
  },
  {
   "cell_type": "code",
   "execution_count": 67,
   "id": "f2202405",
   "metadata": {},
   "outputs": [
    {
     "name": "stdout",
     "output_type": "stream",
     "text": [
      "[[3 3 4 7]\n",
      " [2 4 8 7]\n",
      " [6 2 8 3]\n",
      " [8 7 4 7]]\n"
     ]
    }
   ],
   "source": [
    "a = np.random.randint(0,9,(4,4)) # генерация массива\n",
    "print(a)"
   ]
  },
  {
   "cell_type": "code",
   "execution_count": 74,
   "id": "d313516e",
   "metadata": {},
   "outputs": [
    {
     "name": "stdout",
     "output_type": "stream",
     "text": [
      "7\n",
      "2\n",
      "4.75\n",
      "26\n"
     ]
    }
   ],
   "source": [
    "print(np.max([a[0]]))     # вывод максимального значения первой строки\n",
    "print(np.min([a[1]]))     # вывод минимального значения второй строки    \n",
    "print(np.average([a[2]])) # вывод среднего значения третьей строки\n",
    "print(np.sum([a[3]]))     # вывод суммы четвертой строки"
   ]
  },
  {
   "cell_type": "markdown",
   "id": "8bf5c661",
   "metadata": {},
   "source": [
    "Задача №5\n",
    "\n",
    "Создайте диагональную матрицу 5х5, все ненулевые элементы равны 5."
   ]
  },
  {
   "cell_type": "code",
   "execution_count": 89,
   "id": "fd08730c",
   "metadata": {},
   "outputs": [
    {
     "name": "stdout",
     "output_type": "stream",
     "text": [
      "[[5. 0. 0. 0. 0.]\n",
      " [0. 5. 0. 0. 0.]\n",
      " [0. 0. 5. 0. 0.]\n",
      " [0. 0. 0. 5. 0.]\n",
      " [0. 0. 0. 0. 5.]]\n"
     ]
    }
   ],
   "source": [
    "a = np.eye(5)      # вывод единичной матрицы\n",
    "for i in range(5): # заменяю элементы на главной диагонали\n",
    "    a[i,i] = 5\n",
    "print(a)           # вывод матрицы"
   ]
  },
  {
   "cell_type": "markdown",
   "id": "788ef4b9",
   "metadata": {},
   "source": [
    "Задача №6\n",
    "\n",
    "Создайте Numpy массив случайных чисел размерности 6х6х6 и найдите максимальное значение среди всех элементов."
   ]
  },
  {
   "cell_type": "code",
   "execution_count": 94,
   "id": "0a9851f7",
   "metadata": {},
   "outputs": [
    {
     "name": "stdout",
     "output_type": "stream",
     "text": [
      "99\n"
     ]
    }
   ],
   "source": [
    "a = np.random.randint(0,100,(6,6,6)) # вывод массива 6х6х6\n",
    "#print(a)\n",
    "print(np.max([a]))                   # вывод максимального значения "
   ]
  },
  {
   "cell_type": "markdown",
   "id": "cf12df76",
   "metadata": {},
   "source": [
    "Задача №7\n",
    "\n",
    "Напишите функцию, которая принимает на вход 2 Numpy матрицы, проверяет, можно ли их перемножить,\n",
    "и если можно - то перемножает и возвращает транспонированную результирующую матрицу."
   ]
  },
  {
   "cell_type": "code",
   "execution_count": 112,
   "id": "99bfff38",
   "metadata": {},
   "outputs": [
    {
     "name": "stdout",
     "output_type": "stream",
     "text": [
      "[[1 2 3 4]\n",
      " [2 3 5 7]\n",
      " [4 5 6 7]]\n",
      "[[1]\n",
      " [2]\n",
      " [3]]\n"
     ]
    }
   ],
   "source": [
    "a = np.array([[1,2,3,4], [2,3,5,7], [4,5,6,7]]) # матрица 1\n",
    "b = np.array([[1], [2], [3],[4]])               # матрица 2\n",
    "print(a)\n",
    "print(b)"
   ]
  },
  {
   "cell_type": "code",
   "execution_count": 113,
   "id": "fd686c4e",
   "metadata": {},
   "outputs": [
    {
     "name": "stdout",
     "output_type": "stream",
     "text": [
      "(3, 4)\n",
      "(3, 1)\n"
     ]
    }
   ],
   "source": [
    "c = a.shape   # размер матрицы 1 \n",
    "print(c)\n",
    "d = b.shape   # размер матрицы 2  \n",
    "print(d)"
   ]
  },
  {
   "cell_type": "code",
   "execution_count": 114,
   "id": "85271541",
   "metadata": {},
   "outputs": [
    {
     "name": "stdout",
     "output_type": "stream",
     "text": [
      "матрицы нельзя перемножить\n"
     ]
    }
   ],
   "source": [
    "if c[1] == d[0]:   # проверка условия умножения\n",
    "    print(a@b)\n",
    "else:\n",
    "    print('матрицы нельзя перемножить')"
   ]
  },
  {
   "cell_type": "markdown",
   "id": "2f7bf38f",
   "metadata": {},
   "source": [
    "Задача №8"
   ]
  },
  {
   "cell_type": "markdown",
   "id": "33df9961",
   "metadata": {},
   "source": [
    "Дана функция: f(x1,x2) = x1^2+2x2^2+exp(x1+x2)\n",
    "    \n",
    "Найдите минимум данной функции, завершив вычисления при погрешности \n",
    "e = 0.5,выбрав в качестве начального приблежения точку (0, 0) и коэффициент шага \n",
    "H  = 0.1"
   ]
  },
  {
   "cell_type": "code",
   "execution_count": 143,
   "id": "a0ec191f",
   "metadata": {},
   "outputs": [
    {
     "name": "stdout",
     "output_type": "stream",
     "text": [
      "-0.21589935313470474 -0.2340642845343346\n"
     ]
    }
   ],
   "source": [
    "import math \n",
    "n = 0     # количество итераций\n",
    "x1 = 0.1 \n",
    "x2 = 0.1\n",
    "e = 0.5   # точность\n",
    "grad = 1  #начальное значение градиента\n",
    "H = 0.1   #начальный шаг\n",
    "while grad > e:\n",
    "    prx1 = 2*x1 + math.exp(x1+x2)          #частная производная x1\n",
    "    prx2 = 4*x2 + math.exp(x1+x2)          #частная производная x2\n",
    "    grad = math.sqrt(prx1**2 + prx2**2)    #градиент\n",
    "    h = H*grad                             #значение шага    \n",
    "    x1 = x1-prx1*h                         \n",
    "    x2 = x2-prx2*h                         #новые координаты\n",
    "    n=n+1\n",
    "print (x1,x2)"
   ]
  }
 ],
 "metadata": {
  "kernelspec": {
   "display_name": "Python 3 (ipykernel)",
   "language": "python",
   "name": "python3"
  },
  "language_info": {
   "codemirror_mode": {
    "name": "ipython",
    "version": 3
   },
   "file_extension": ".py",
   "mimetype": "text/x-python",
   "name": "python",
   "nbconvert_exporter": "python",
   "pygments_lexer": "ipython3",
   "version": "3.9.7"
  }
 },
 "nbformat": 4,
 "nbformat_minor": 5
}
