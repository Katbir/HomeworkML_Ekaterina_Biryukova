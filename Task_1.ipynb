{
 "cells": [
  {
   "cell_type": "markdown",
   "id": "deb1d295",
   "metadata": {},
   "source": [
    "Самостоятельное задание #1"
   ]
  },
  {
   "cell_type": "markdown",
   "id": "c4bb7694",
   "metadata": {},
   "source": [
    "Решите:\n",
    "\n",
    "    a and b\n",
    "\n",
    "    (a and b) or b\n",
    "\n",
    "    (a and b) or not (a and b)\n",
    "\n",
    "    a and b or not (a or b) or b\n",
    "\n",
    "    b and b or not a and (a or b or a) or not (a or b)\n",
    "\n",
    "    1 << 2\n",
    "\n",
    "    1 & 0 | 1 >> 1\n",
    "\n",
    "    1 & 0 | 1 >> 0\n",
    "\n",
    "    0b101 & 0b111 ^ 0b111 | 0b010 Комментарий: \"0b101\" - запись числа \"5\" на языке Python в двоичном виде\n",
    "\n"
   ]
  },
  {
   "cell_type": "code",
   "execution_count": 1,
   "id": "d192c2c0",
   "metadata": {},
   "outputs": [],
   "source": [
    "a = True    # Присваиваем значения переменным\n",
    "b = False "
   ]
  },
  {
   "cell_type": "code",
   "execution_count": 2,
   "id": "b9754d2f",
   "metadata": {},
   "outputs": [
    {
     "name": "stdout",
     "output_type": "stream",
     "text": [
      "False\n"
     ]
    }
   ],
   "source": [
    "print(a and b) # вывод решения a and b на экран"
   ]
  },
  {
   "cell_type": "code",
   "execution_count": 3,
   "id": "1921838f",
   "metadata": {},
   "outputs": [
    {
     "name": "stdout",
     "output_type": "stream",
     "text": [
      "False\n"
     ]
    }
   ],
   "source": [
    "print((a and b) or b) # вывод решения (a and b) or b на экран"
   ]
  },
  {
   "cell_type": "code",
   "execution_count": 4,
   "id": "1a5db42f",
   "metadata": {},
   "outputs": [
    {
     "name": "stdout",
     "output_type": "stream",
     "text": [
      "True\n"
     ]
    }
   ],
   "source": [
    "print((a and b) or not (a and b)) # вывод решения (a and b) or not (a and b) на экран"
   ]
  },
  {
   "cell_type": "code",
   "execution_count": 6,
   "id": "9030d5a5",
   "metadata": {},
   "outputs": [
    {
     "name": "stdout",
     "output_type": "stream",
     "text": [
      "False\n"
     ]
    }
   ],
   "source": [
    "print(a and b or not (a or b) or b) # вывод решения a and b or not (a or b) or b на экран"
   ]
  },
  {
   "cell_type": "code",
   "execution_count": 7,
   "id": "09e6e282",
   "metadata": {},
   "outputs": [
    {
     "name": "stdout",
     "output_type": "stream",
     "text": [
      "False\n"
     ]
    }
   ],
   "source": [
    "print(b and b or not a and (a or b or a) or not (a or b)) \n",
    "# вывод решения b and b or not a and (a or b or a) or not (a or b) на экран"
   ]
  },
  {
   "cell_type": "code",
   "execution_count": 8,
   "id": "385a770a",
   "metadata": {},
   "outputs": [
    {
     "name": "stdout",
     "output_type": "stream",
     "text": [
      "4\n"
     ]
    }
   ],
   "source": [
    "print(1 << 2) # вывод решения 1 << 2 на экран"
   ]
  },
  {
   "cell_type": "code",
   "execution_count": 9,
   "id": "de78fdd6",
   "metadata": {},
   "outputs": [
    {
     "name": "stdout",
     "output_type": "stream",
     "text": [
      "0\n"
     ]
    }
   ],
   "source": [
    "print(1 & 0 | 1 >> 1) # вывод решения 1 & 0 | 1 >> 1 на экран"
   ]
  },
  {
   "cell_type": "code",
   "execution_count": 10,
   "id": "d8a78c95",
   "metadata": {},
   "outputs": [
    {
     "name": "stdout",
     "output_type": "stream",
     "text": [
      "1\n"
     ]
    }
   ],
   "source": [
    "print(1 & 0 | 1 >> 0) # вывод решения 1 & 0 | 1 >> 0 на экран"
   ]
  },
  {
   "cell_type": "code",
   "execution_count": 11,
   "id": "389511ce",
   "metadata": {},
   "outputs": [
    {
     "name": "stdout",
     "output_type": "stream",
     "text": [
      "2\n"
     ]
    }
   ],
   "source": [
    "print(0b101 & 0b111 ^ 0b111 | 0b010) # вывод решения 0b101 & 0b111 ^ 0b111 | 0b010 на экран"
   ]
  },
  {
   "cell_type": "code",
   "execution_count": null,
   "id": "83189aa4",
   "metadata": {},
   "outputs": [],
   "source": []
  }
 ],
 "metadata": {
  "kernelspec": {
   "display_name": "Python 3 (ipykernel)",
   "language": "python",
   "name": "python3"
  },
  "language_info": {
   "codemirror_mode": {
    "name": "ipython",
    "version": 3
   },
   "file_extension": ".py",
   "mimetype": "text/x-python",
   "name": "python",
   "nbconvert_exporter": "python",
   "pygments_lexer": "ipython3",
   "version": "3.9.7"
  }
 },
 "nbformat": 4,
 "nbformat_minor": 5
}
